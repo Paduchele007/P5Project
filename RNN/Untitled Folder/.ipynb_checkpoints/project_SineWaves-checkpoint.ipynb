{
 "cells": [
  {
   "cell_type": "code",
   "execution_count": 2,
   "metadata": {},
   "outputs": [],
   "source": [
    "#basic imports ✌\n",
    "\n",
    "import numpy as np\n",
    "import math, random\n",
    "import matplotlib.pyplot as plt\n",
    "\n",
    "%matplotlib inline\n",
    "np.random.seed(0)"
   ]
  },
  {
   "cell_type": "code",
   "execution_count": 16,
   "metadata": {},
   "outputs": [],
   "source": [
    "#creating the signals 👌\n",
    "\n",
    "def sine(X,signal_freq=60.):\n",
    "    return np.sin(2*np.pi*(X)/signal_freq)\n",
    "\n",
    "def noisy(Y,noise_range=(-0.35,0.35)):\n",
    "    noise=np.random.uniform(noise_range[0],noise_range[1],size=Y.shape)\n",
    "    return Y+noise\n",
    "\n",
    "def sample(sample_size):\n",
    "    random_offset = random.randint(0, sample_size)\n",
    "    X = np.arange(sample_size)\n",
    "    out = sine(X + random_offset)\n",
    "    inp = noisy(out)\n",
    "    return inp, out"
   ]
  },
  {
   "cell_type": "code",
   "execution_count": 4,
   "metadata": {},
   "outputs": [
    {
     "data": {
      "text/plain": [
       "<matplotlib.legend.Legend at 0x219ab568fd0>"
      ]
     },
     "execution_count": 4,
     "metadata": {},
     "output_type": "execute_result"
    },
    {
     "data": {
      "image/png": "[encoded data removed]",
      "text/plain": [
       "<Figure size 432x288 with 1 Axes>"
      ]
     },
     "metadata": {
      "needs_background": "light"
     },
     "output_type": "display_data"
    }
   ],
   "source": [
    "# generating figures 👍👍👍👍👍\n",
    "\n",
    "inp, out = sample(100)\n",
    "plt.plot(inp, label='Noisy')\n",
    "plt.plot(out, label ='Denoised')\n",
    "plt.legend()"
   ]
  },
  {
   "cell_type": "code",
   "execution_count": 5,
   "metadata": {},
   "outputs": [],
   "source": [
    "#genereate dataset 👀👀👀\n",
    "\n",
    "def create_dataset(n_samples=10000, sample_size=100):\n",
    "    data_inp= np.zeros((n_samples,sample_size))\n",
    "    data_out= np.zeros((n_samples,sample_size))\n",
    "    \n",
    "    for i in range(n_samples):\n",
    "        sample_inp, sample_out = sample(sample_size)\n",
    "        data_inp[i, :] = sample_inp\n",
    "        data_out[i, :] = sample_out\n",
    "    return data_inp,data_out"
   ]
  },
  {
   "cell_type": "code",
   "execution_count": 6,
   "metadata": {},
   "outputs": [],
   "source": [
    "data_inp,data_out = create_dataset()\n",
    "train_inp, train_out= data_inp[:8000], data_out[:8000]\n",
    "test_inp, test_out = data_inp[8000:], data_out[8000:]"
   ]
  },
  {
   "cell_type": "code",
   "execution_count": 7,
   "metadata": {},
   "outputs": [],
   "source": [
    "import torch \n",
    "import torch.nn as nn\n",
    "from torch.autograd import Variable"
   ]
  },
  {
   "cell_type": "code",
   "execution_count": 10,
   "metadata": {},
   "outputs": [
    {
     "name": "stderr",
     "output_type": "stream",
     "text": [
      "C:\\apps\\Miniconda\\lib\\site-packages\\torch\\nn\\modules\\rnn.py:38: UserWarning: dropout option adds dropout after all but last recurrent layer, so non-zero dropout expects num_layers greater than 1, but got dropout=0.1 and num_layers=1\n",
      "  \"num_layers={}\".format(dropout, num_layers))\n"
     ]
    }
   ],
   "source": [
    "#The RNN 👌👌👌👌👌\n",
    "\n",
    "input_dim=1\n",
    "hidden_size=30\n",
    "num_layers=1\n",
    "\n",
    "bidirectional = True\n",
    "if bidirectional:\n",
    "    num_directions = 2\n",
    "else:\n",
    "    num_directions = 1\n",
    "class CustomRNN(nn.Module):\n",
    "    def __init__(self, input_size, hidden_size, output_size):\n",
    "        super(CustomRNN, self).__init__()\n",
    "        self.rnn = nn.GRU(input_size=input_size, hidden_size=hidden_size, \n",
    "                          batch_first=True, bidirectional=bidirectional, dropout=0.1)\n",
    "        self.linear = nn.Linear(hidden_size*num_directions, output_size, )\n",
    "        self.act = nn.Tanh()\n",
    "    def forward(self, x):\n",
    "        pred, hidden = self.rnn(x, None)\n",
    "        pred = self.act(self.linear(pred)).view(pred.data.shape[0], -1, 1)\n",
    "        return pred\n",
    "\n",
    "r= CustomRNN(input_dim, hidden_size, 1)\n"
   ]
  },
  {
   "cell_type": "code",
   "execution_count": 11,
   "metadata": {},
   "outputs": [
    {
     "data": {
      "text/plain": [
       "CustomRNN(\n",
       "  (rnn): GRU(1, 30, batch_first=True, dropout=0.1, bidirectional=True)\n",
       "  (linear): Linear(in_features=60, out_features=1, bias=True)\n",
       "  (act): Tanh()\n",
       ")"
      ]
     },
     "execution_count": 11,
     "metadata": {},
     "output_type": "execute_result"
    }
   ],
   "source": [
    "r"
   ]
  },
  {
   "cell_type": "code",
   "execution_count": 12,
   "metadata": {},
   "outputs": [
    {
     "name": "stderr",
     "output_type": "stream",
     "text": [
      "C:\\apps\\Miniconda\\lib\\site-packages\\ipykernel_launcher.py:17: UserWarning: invalid index of a 0-dim tensor. This will be an error in PyTorch 0.5. Use tensor.item() to convert a 0-dim tensor to a Python number\n"
     ]
    },
    {
     "name": "stdout",
     "output_type": "stream",
     "text": [
      "0 tensor(0.5880)\n",
      "20 tensor(0.1010)\n",
      "40 tensor(0.0886)\n",
      "60 tensor(0.0802)\n",
      "80 tensor(0.0593)\n",
      "100 tensor(0.0484)\n",
      "120 tensor(0.0446)\n",
      "140 tensor(0.0404)\n",
      "160 tensor(0.0417)\n",
      "180 tensor(0.0426)\n",
      "200 tensor(0.0389)\n",
      "220 tensor(0.0389)\n",
      "240 tensor(0.0356)\n",
      "260 tensor(0.0350)\n",
      "280 tensor(0.0315)\n",
      "300 tensor(0.0320)\n"
     ]
    }
   ],
   "source": [
    "# TRAINING 💪💪💪💪💪💪💪💪💪💪💪\n",
    "\n",
    "predictions = []\n",
    "\n",
    "optimizer = torch.optim.Adam(r.parameters(), lr=1e-2)\n",
    "loss_func = nn.L1Loss()\n",
    "\n",
    "for t in range(301):\n",
    "    hidden = None\n",
    "    inp = Variable(torch.Tensor(train_inp.reshape((train_inp.shape[0], -1, 1))), requires_grad=True)\n",
    "    out = Variable(torch.Tensor(train_out.reshape((train_out.shape[0], -1, 1))) )\n",
    "    pred = r(inp)\n",
    "    optimizer.zero_grad()\n",
    "    predictions.append(pred.data.numpy())\n",
    "    loss = loss_func(pred, out)\n",
    "    if t%20==0:\n",
    "        print(t, loss.data[0])\n",
    "    loss.backward()\n",
    "    optimizer.step()"
   ]
  },
  {
   "cell_type": "code",
   "execution_count": 13,
   "metadata": {},
   "outputs": [
    {
     "name": "stdout",
     "output_type": "stream",
     "text": [
      "tensor(0.0331)\n"
     ]
    },
    {
     "name": "stderr",
     "output_type": "stream",
     "text": [
      "C:\\apps\\Miniconda\\lib\\site-packages\\ipykernel_launcher.py:6: UserWarning: invalid index of a 0-dim tensor. This will be an error in PyTorch 0.5. Use tensor.item() to convert a 0-dim tensor to a Python number\n",
      "  \n"
     ]
    }
   ],
   "source": [
    "#generating prediction on test set\n",
    "t_inp = Variable(torch.Tensor(test_inp.reshape((test_inp.shape[0], -1, 1))), requires_grad=True)\n",
    "pred_t = r(t_inp)\n",
    "\n",
    "# Test loss\n",
    "print(loss_func(pred_t, Variable(torch.Tensor(test_out.reshape((test_inp.shape[0], -1, 1))))).data[0])"
   ]
  },
  {
   "cell_type": "code",
   "execution_count": 14,
   "metadata": {},
   "outputs": [
    {
     "data": {
      "text/plain": [
       "Text(0.5, 1.0, 'Sample num: 23')"
      ]
     },
     "execution_count": 14,
     "metadata": {},
     "output_type": "execute_result"
    },
    {
     "data": {
      "image/png": "[encoded data removed]",
      "text/plain": [
       "<Figure size 432x288 with 1 Axes>"
      ]
     },
     "metadata": {
      "needs_background": "light"
     },
     "output_type": "display_data"
    }
   ],
   "source": [
    "sample_num = 23\n",
    "plt.plot(pred_t[sample_num].data.numpy(), label='Pred')\n",
    "plt.plot(test_out[sample_num], label='GT')\n",
    "plt.legend()\n",
    "plt.title(\"Sample num: {}\".format(sample_num))"
   ]
  },
  {
   "cell_type": "code",
   "execution_count": null,
   "metadata": {},
   "outputs": [],
   "source": []
  }
 ],
 "metadata": {
  "kernelspec": {
   "display_name": "Python 3",
   "language": "python",
   "name": "python3"
  },
  "language_info": {
   "codemirror_mode": {
    "name": "ipython",
    "version": 3
   },
   "file_extension": ".py",
   "mimetype": "text/x-python",
   "name": "python",
   "nbconvert_exporter": "python",
   "pygments_lexer": "ipython3",
   "version": "3.7.0"
  }
 },
 "nbformat": 4,
 "nbformat_minor": 2
}
