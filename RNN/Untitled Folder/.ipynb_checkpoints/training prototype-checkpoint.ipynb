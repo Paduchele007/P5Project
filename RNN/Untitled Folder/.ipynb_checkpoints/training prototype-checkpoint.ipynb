{
 "cells": [
  {
   "cell_type": "code",
   "execution_count": 71,
   "metadata": {},
   "outputs": [],
   "source": [
    "#basic imports ✌\n",
    "\n",
    "import matplotlib.pyplot as plt\n",
    "import os\n",
    "import random\n",
    "import numpy as np\n",
    "import math, random\n",
    "import torch \n",
    "import torch.nn as nn\n",
    "from torch.autograd import Variable\n",
    "import soundfile as sf\n",
    "import librosa\n",
    "import sounddevice as sd\n",
    "import python_speech_features\n",
    "\n",
    "%matplotlib inline\n",
    "np.random.seed(0)"
   ]
  },
  {
   "cell_type": "code",
   "execution_count": 72,
   "metadata": {
    "scrolled": false
   },
   "outputs": [],
   "source": [
    "#Finding speech sample 🤷‍🤷‍🤷‍\n",
    "\n",
    "def random_speech_sample():\n",
    "    path = r\"C:\\Users\\Darius\\Desktop\\sound samples\\training data for RNN\\LibriSpeech\\train-clean-100\"\n",
    "    for i in range (0,3):\n",
    "        files = os.listdir(path)\n",
    "        index = random.randrange(0, len(files))\n",
    "        path = os.path.join(path, files[index])\n",
    "    file_path = path\n",
    "    speech_sample, fs2 = sf.read(file_path)\n",
    "\n",
    "    return speech_sample\n",
    "    #print(file_path)\n",
    "    #plt.plot(speech_sample)"
   ]
  },
  {
   "cell_type": "code",
   "execution_count": 73,
   "metadata": {},
   "outputs": [],
   "source": [
    "#Finding noise sample 🎉🎉🎉🎉🎷🎸🎶🎵🎵\n",
    "\n",
    "def random_noise_sample():\n",
    "    path = r\"C:\\Users\\Darius\\Desktop\\sound samples\\training data for RNN\\rnnoise_contributions\"\n",
    "    files = os.listdir(path)\n",
    "    index = random.randrange(0, len(files))\n",
    "    if  files[index].endswith('.txt'):\n",
    "        index = index -1\n",
    "    file_path = os.path.join(path, files[index])\n",
    "    noise_sample, fs = sf.read(file_path, channels=2, samplerate=24100,format='RAW', subtype='PCM_16')\n",
    "\n",
    "    i=0\n",
    "    while i!=1:\n",
    "        random_sequence = random.randrange(0,len(noise_sample))\n",
    "        if random_sequence + len(speech_sample)< len(noise_sample):\n",
    "            i=1\n",
    "    noise_sample = noise_sample[random_sequence:]\n",
    "    noise_sample = noise_sample[:len(speech_sample),:1]\n",
    "\n",
    "    return noise_sample\n",
    "    #print(file_path)\n",
    "    #plt.plot(noise_sample)"
   ]
  },
  {
   "cell_type": "code",
   "execution_count": 75,
   "metadata": {},
   "outputs": [],
   "source": [
    "#making input sample  🎵🎵🤷‍🤷‍\n",
    "\n",
    "def combined_samples():\n",
    "    combined = [len(speech_sample)] * 0\n",
    "    combined = np.empty([len(speech_sample)])\n",
    "    \n",
    "    noise_sample = random_noise_sample()\n",
    "    speech_sample = random_speech_sample()\n",
    "    for i in range(len(speech_sample)):\n",
    "        combined[i] = speech_sample[i] + noise_sample[i]\n",
    "    \n",
    "    return combined\n",
    "    #plt.plot(combined)\n",
    "    #sd.play(combine)\n",
    "    #sd.stop(combine)\n"
   ]
  },
  {
   "cell_type": "code",
   "execution_count": 68,
   "metadata": {},
   "outputs": [],
   "source": [
    "\n",
    "\n",
    "nfcc=python_speech_features.mfcc(combined,18000)\n",
    "nfcc2=python_speech_features.mfcc(speech_sample,18000)\n",
    "nfcc3=python_speech_features.mfcc(noise_sample,18000)\n"
   ]
  },
  {
   "cell_type": "code",
   "execution_count": 69,
   "metadata": {},
   "outputs": [
    {
     "data": {
      "text/plain": [
       "(306, 13)"
      ]
     },
     "execution_count": 69,
     "metadata": {},
     "output_type": "execute_result"
    }
   ],
   "source": [
    "nfcc.shape"
   ]
  },
  {
   "cell_type": "code",
   "execution_count": null,
   "metadata": {},
   "outputs": [],
   "source": []
  }
 ],
 "metadata": {
  "kernelspec": {
   "display_name": "Python 3",
   "language": "python",
   "name": "python3"
  },
  "language_info": {
   "codemirror_mode": {
    "name": "ipython",
    "version": 3
   },
   "file_extension": ".py",
   "mimetype": "text/x-python",
   "name": "python",
   "nbconvert_exporter": "python",
   "pygments_lexer": "ipython3",
   "version": "3.7.0"
  }
 },
 "nbformat": 4,
 "nbformat_minor": 2
}
