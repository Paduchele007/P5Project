{
 "cells": [
  {
   "cell_type": "code",
   "execution_count": null,
   "metadata": {},
   "outputs": [],
   "source": [
    "#basic imports ✌\n",
    "\n",
    "import numpy as np\n",
    "import math, random\n",
    "import matplotlib.pyplot as plt\n",
    "\n",
    "%matplotlib inline\n",
    "np.random.seed(0)"
   ]
  },
  {
   "cell_type": "code",
   "execution_count": null,
   "metadata": {},
   "outputs": [],
   "source": [
    "#creating the signals 👌\n",
    "\n",
    "def sine(X,signal_freq=60.):\n",
    "    return np.sin(2*np.pi*(X)/signal_freq)\n",
    "\n",
    "def noisy(Y,noise_range=(-0.35,0.35)):\n",
    "    noise=np.random.uniform(noise_range[0],noise_range[1],size=Y.shape)\n",
    "    return Y+noise\n",
    "\n",
    "def sample(sample_size):\n",
    "    random_offset = random.randint(0, sample_size)\n",
    "    X = np.arange(sample_size)\n",
    "    out = sine(X + random_offset)\n",
    "    inp = noisy(out)\n",
    "    return inp, out"
   ]
  },
  {
   "cell_type": "code",
   "execution_count": null,
   "metadata": {},
   "outputs": [],
   "source": [
    "# generating figures 👍👍👍👍👍\n",
    "\n",
    "inp, out = sample(100)\n",
    "plt.plot(inp, label='Noisy')\n",
    "plt.plot(out, label ='Denoised')\n",
    "plt.legend()"
   ]
  },
  {
   "cell_type": "code",
   "execution_count": null,
   "metadata": {},
   "outputs": [],
   "source": [
    "#genereate dataset 👀👀👀\n",
    "\n",
    "def create_dataset(n_samples=10000, sample_size=100):\n",
    "    data_inp= np.zeros((n_samples,sample_size))\n",
    "    data_out= np.zeros((n_samples,sample_size))\n",
    "    \n",
    "    for i in range(n_samples):\n",
    "        sample_inp, sample_out = sample(sample_size)\n",
    "        data_inp[i, :] = sample_inp\n",
    "        data_out[i, :] = sample_out\n",
    "    return data_inp,data_out"
   ]
  },
  {
   "cell_type": "code",
   "execution_count": null,
   "metadata": {},
   "outputs": [],
   "source": [
    "data_inp,data_out = create_dataset()\n",
    "train_inp, train_out= data_inp[:8000], data_out[:8000]\n",
    "test_inp, test_out = data_inp[8000:], data_out[8000:]"
   ]
  },
  {
   "cell_type": "code",
   "execution_count": null,
   "metadata": {},
   "outputs": [],
   "source": [
    "import torch \n",
    "import torch.nn as nn\n",
    "from torch.autograd import Variable"
   ]
  },
  {
   "cell_type": "code",
   "execution_count": null,
   "metadata": {},
   "outputs": [],
   "source": [
    "#The RNN 👌👌👌👌👌\n",
    "\n",
    "input_dim=1\n",
    "hidden_size=30\n",
    "num_layers=1\n",
    "\n",
    "class CustomRNN(nn.Module):\n",
    "    def __init__(self, input_size, hiddden_size, output_size):\n",
    "        super(CustomRNN, self).__init__()\n",
    "        self.rnn = nn.RNN(input_size=input_size, hidden_size=hidden_size, batch_first=True)\n",
    "        self.linear = nn.Linear(hidden_size, output_size, )\n",
    "        self.act= nn.Tanh()\n",
    "    def forward(self, x):\n",
    "        pred,hiddne= self.rnn(x,None)\n",
    "        pred = self.act(self.linear(pred)).view(pred.data.shape[0], -1,1)\n",
    "        return pred\n",
    "    \n",
    "r= CustomRNN(input_dim, hidden_size, 1)"
   ]
  },
  {
   "cell_type": "code",
   "execution_count": null,
   "metadata": {},
   "outputs": [],
   "source": [
    "r"
   ]
  },
  {
   "cell_type": "code",
   "execution_count": null,
   "metadata": {},
   "outputs": [],
   "source": [
    "# TRAINING 💪💪💪💪💪💪💪💪💪💪💪\n",
    "\n",
    "predictions= []\n",
    "\n",
    "optimizer = torch.optim.Adam(r.parameters(), lr=1e-2)\n",
    "loss_func = nn.L1Loss()\n",
    "\n",
    "for t in range(301):\n",
    "    hidden= None\n",
    "    inp = Variable(torch.Tensor(train_inp.reshape((train_inp.shape[0], -1, 1))), requires_grad=True)\n",
    "    out=Variable(torch.Tensor(train_out.reshape((train_out.shape[0], -1, 1))) )\n",
    "    pred= r(inp)\n",
    "    optimizer.zero_grad()\n",
    "    predictions.append(pred.data.numpy())\n",
    "    loss= loss_func(pred, out)\n",
    "    if t%20==0:\n",
    "        print(t, loss.data[0])\n",
    "    loss.backward()\n",
    "    optimizer.step()\n",
    "    "
   ]
  },
  {
   "cell_type": "code",
   "execution_count": 7,
   "metadata": {},
   "outputs": [],
   "source": []
  },
  {
   "cell_type": "code",
   "execution_count": null,
   "metadata": {},
   "outputs": [],
   "source": []
  }
 ],
 "metadata": {
  "kernelspec": {
   "display_name": "Python 3",
   "language": "python",
   "name": "python3"
  },
  "language_info": {
   "codemirror_mode": {
    "name": "ipython",
    "version": 3
   },
   "file_extension": ".py",
   "mimetype": "text/x-python",
   "name": "python",
   "nbconvert_exporter": "python",
   "pygments_lexer": "ipython3",
   "version": "3.6.1"
  }
 },
 "nbformat": 4,
 "nbformat_minor": 2
}
