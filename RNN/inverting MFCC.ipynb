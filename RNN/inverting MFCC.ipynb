{
 "cells": [
  {
   "cell_type": "code",
   "execution_count": 14,
   "metadata": {},
   "outputs": [],
   "source": [
    "#basic imports ✌\n",
    "\n",
    "import matplotlib.pyplot as plt\n",
    "import os\n",
    "import random\n",
    "import numpy as np\n",
    "import math, random\n",
    "import tensorflow as tf\n",
    "#os.environ['KERAS_BACKEND'] = 'tensorflow'\n",
    "import keras as ks\n",
    "import soundfile as sf\n",
    "import sounddevice as sd\n",
    "import python_speech_features\n",
    "\n",
    "%matplotlib inline\n",
    "np.random.seed(0)"
   ]
  },
  {
   "cell_type": "code",
   "execution_count": 86,
   "metadata": {
    "scrolled": false
   },
   "outputs": [],
   "source": [
    "#Finding speech sample 🤷‍🤷‍🤷‍\n",
    "class speech:\n",
    "    \n",
    "    def choose_random(self):\n",
    "        path = r\"C:\\Users\\Darius\\Desktop\\sound samples\\training data for RNN\\LibriSpeech\\train-clean-100\"\n",
    "        for i in range (0,3):\n",
    "            files = os.listdir(path)\n",
    "            index = random.randrange(0, len(files))\n",
    "            while  files[index].endswith('.txt'):\n",
    "                #index = index + 1\n",
    "                index = random.randrange(0, len(files))\n",
    "            path  = os.path.join(path, files[index])\n",
    "        file_path = path\n",
    "        self.sample, fs = sf.read(file_path)\n",
    "        \n",
    "        self.size = len(self.sample)\n",
    "        self.nfcc = python_speech_features.mfcc(self.sample,18000,0.025,0.01,24)\n",
    "\n",
    "    def show_sample(self):\n",
    "        print(file_path)\n",
    "        plt.plot(self.sample)\n",
    "    def listen_sample(self):\n",
    "        sd.play(self.sample) "
   ]
  },
  {
   "cell_type": "code",
   "execution_count": 16,
   "metadata": {},
   "outputs": [],
   "source": [
    "#Finding noise sample 🎉🎉🎉🎉🎷🎸🎶🎵🎵\n",
    "class noise:\n",
    "    def __init__(self,size):\n",
    "        self.size = size\n",
    "    \n",
    "    def choose_random(self):\n",
    "        path = r\"C:\\Users\\Darius\\Desktop\\sound samples\\training data for RNN\\rnnoise_contributions\"\n",
    "        files = os.listdir(path)\n",
    "        index = random.randrange(0, len(files))\n",
    "        if  files[index].endswith('.txt'):\n",
    "            index = index -1\n",
    "        file_path = os.path.join(path, files[index])\n",
    "        self.sample, fs = sf.read(file_path, channels=2, samplerate=24100,format='RAW', subtype='PCM_16')\n",
    "\n",
    "        i=0\n",
    "        while i!=1:\n",
    "            random_sequence = random.randrange(0,len(self.sample))\n",
    "            if random_sequence + self.size < len(self.sample):\n",
    "                i=1\n",
    "        self.sample = self.sample[random_sequence:]\n",
    "        self.sample = self.sample[:self.size ,:1]\n",
    "        \n",
    "        self.nfcc = python_speech_features.mfcc(self.sample,18000,0.025,0.01,24)\n",
    "        \n",
    "    def show_sample():\n",
    "        print(file_path)\n",
    "        plt.plot(self.sample)\n",
    "    def listen_sample(self):\n",
    "        sd.play(self.sample) "
   ]
  },
  {
   "cell_type": "code",
   "execution_count": 17,
   "metadata": {},
   "outputs": [],
   "source": [
    "#making input sample  🎵🎵🤷‍🤷‍\n",
    "class combined_samples:\n",
    "    def __init__(self,speech_sample,noise_sample):\n",
    "        self.speech_sample = speech_sample\n",
    "        self.noise_sample  = noise_sample\n",
    "    \n",
    "    def combine_samples(self):\n",
    "        self.sample = [len(self.speech_sample)] * 0\n",
    "        self.sample = np.empty([len(self.speech_sample)])\n",
    "\n",
    "        for i in range(len(self.speech_sample)):\n",
    "            self.sample[i] = self.speech_sample[i] + self.noise_sample[i]\n",
    "        \n",
    "        self.size = len(self.sample)\n",
    "        self.nfcc = python_speech_features.mfcc(self.sample,18000,0.025,0.01,24)\n",
    "        \n",
    "    def show_sample(self):\n",
    "        plt.plot(self.sample)\n",
    "    def listen_sample(self):\n",
    "        sd.play(self.sample) "
   ]
  },
  {
   "cell_type": "code",
   "execution_count": 18,
   "metadata": {},
   "outputs": [],
   "source": [
    "# Training Data\n",
    "class training_data:\n",
    "    def get_data(self):\n",
    "        self.speechD = speech()\n",
    "        self.speechD.choose_random()\n",
    "        \n",
    "        self.noiseD = noise(self.speechD.size)\n",
    "        self.noiseD.choose_random()\n",
    "        \n",
    "        self.combined = combined_samples(self.speechD.sample , self.noiseD.sample)\n",
    "        self.combined.combine_samples()\n",
    "        \n",
    "        self.input = self.combined.nfcc\n",
    "        self.output= self.speechD.nfcc"
   ]
  },
  {
   "cell_type": "code",
   "execution_count": 59,
   "metadata": {},
   "outputs": [],
   "source": [
    "d = training_data()\n",
    "d.get_data()"
   ]
  },
  {
   "cell_type": "code",
   "execution_count": 20,
   "metadata": {},
   "outputs": [],
   "source": [
    "#Creating The GRU NN\n",
    "from keras.models import Sequential\n",
    "from keras.layers.core import Dense, Dropout, Activation\n",
    "from keras.layers import Activation, GRU, Flatten, Embedding\n",
    "\n",
    "input_dim = 24\n",
    "max_dim = 2000\n",
    "\n",
    "model = Sequential()\n",
    "\n",
    "model.add(Embedding(max_dim, input_dim, input_length=input_dim))\n",
    "\n",
    "model.add(GRU(input_dim,input_shape=(max_dim,input_dim),activation='tanh',return_sequences=True))\n",
    "#model.add(GRU(input_dim,input_shape=(input_dim,len(d.input)),activation='tanh',return_sequences=True))\n",
    "model.add(Dropout(0.15))\n",
    "\n",
    "model.add(GRU(input_dim,input_shape=(input_dim,max_dim,input_dim),activation='tanh', return_sequences=False))\n",
    "#model.add(GRU(input_dim,input_shape=(input_dim,len(d.input)),activation='tanh', return_sequences=False))\n",
    "model.add(Dropout(0.15))\n",
    "\n",
    "model.add(Dense(units=input_dim))\n",
    "model.add(Activation(\"linear\"))\n",
    "\n",
    "model.build()\n",
    "model.compile(loss='mean_squared_error', optimizer='adam', metrics=['accuracy'])\n"
   ]
  },
  {
   "cell_type": "code",
   "execution_count": 21,
   "metadata": {
    "scrolled": true
   },
   "outputs": [
    {
     "name": "stdout",
     "output_type": "stream",
     "text": [
      "_________________________________________________________________\n",
      "Layer (type)                 Output Shape              Param #   \n",
      "=================================================================\n",
      "embedding_3 (Embedding)      (None, 24, 24)            48000     \n",
      "_________________________________________________________________\n",
      "gru_5 (GRU)                  (None, 24, 24)            3528      \n",
      "_________________________________________________________________\n",
      "dropout_5 (Dropout)          (None, 24, 24)            0         \n",
      "_________________________________________________________________\n",
      "gru_6 (GRU)                  (None, 24)                3528      \n",
      "_________________________________________________________________\n",
      "dropout_6 (Dropout)          (None, 24)                0         \n",
      "_________________________________________________________________\n",
      "dense_3 (Dense)              (None, 24)                600       \n",
      "_________________________________________________________________\n",
      "activation_3 (Activation)    (None, 24)                0         \n",
      "=================================================================\n",
      "Total params: 55,656\n",
      "Trainable params: 55,656\n",
      "Non-trainable params: 0\n",
      "_________________________________________________________________\n"
     ]
    }
   ],
   "source": [
    "model.summary()\n",
    "\n",
    "from keras.utils.vis_utils import plot_model\n",
    "os.environ[\"PATH\"] += os.pathsep + r\"\\\\Users\\\\Darius\\\\Desktop\\\\RNN stuff\\\\graphviz\\\\\"\n",
    "import pydot_ng as pydot\n",
    "plot_model(model, to_file='model_plot.png', show_shapes=True, show_layer_names=True)"
   ]
  },
  {
   "cell_type": "code",
   "execution_count": 86,
   "metadata": {},
   "outputs": [
    {
     "name": "stdout",
     "output_type": "stream",
     "text": [
      "Training Epoch 4990\n",
      "1055/1055 [==============================] - ETA:  - ETA:  - ETA:  - ETA:  - ETA:  - ETA:  - ETA:  - ETA:  - ETA:  - ETA:  - ETA:  - ETA:  - ETA:  - ETA:  - ETA:  - ETA:  - 1s 1ms/step\n",
      "[73.78343380751768, 0.46445497613382564]\n"
     ]
    },
    {
     "name": "stderr",
     "output_type": "stream",
     "text": [
      "\n",
      "\n",
      "\n",
      "100%|█████████████████████████████████████████████████████████████████████████████▊| 4991/5000 [18:09<00:02,  3.29it/s]\n",
      "\n",
      "\n",
      "100%|█████████████████████████████████████████████████████████████████████████████▉| 4993/5000 [18:09<00:01,  4.16it/s]\n",
      "\n",
      "\n",
      "100%|█████████████████████████████████████████████████████████████████████████████▉| 4995/5000 [18:09<00:00,  5.11it/s]\n",
      "\n",
      "\n",
      "100%|█████████████████████████████████████████████████████████████████████████████▉| 4997/5000 [18:10<00:00,  6.07it/s]\n",
      "\n",
      "\n",
      "100%|█████████████████████████████████████████████████████████████████████████████▉| 4999/5000 [18:10<00:00,  6.99it/s]\n",
      "\n",
      "\n",
      "100%|██████████████████████████████████████████████████████████████████████████████| 5000/5000 [18:10<00:00,  4.59it/s]"
     ]
    }
   ],
   "source": [
    "#Training the NN\n",
    "import progressbar\n",
    "from tqdm import tqdm\n",
    "from IPython.display import clear_output\n",
    "n_epochs = 5000\n",
    "history=['0']\n",
    "for i in tqdm(range(n_epochs)):\n",
    "    model.train_on_batch(d.input,d.output)\n",
    "\n",
    "    if i%10==0 :\n",
    "        clear_output(wait=True)\n",
    "        print(\"Training Epoch {}\".format(i))\n",
    "        score= model.evaluate(d.input,d.output)\n",
    "        print(score)\n",
    "        history.append(score)\n",
    "        \n",
    "    if i%500==0 :    \n",
    "        d.get_data()\n",
    "    \n",
    "del history[0:1]"
   ]
  },
  {
   "cell_type": "code",
   "execution_count": 87,
   "metadata": {
    "scrolled": true
   },
   "outputs": [
    {
     "data": {
      "image/png": "[encoded data removed]",
      "text/plain": [
       "<matplotlib.figure.Figure at 0x28712705a58>"
      ]
     },
     "metadata": {
      "needs_background": "light"
     },
     "output_type": "display_data"
    },
    {
     "data": {
      "text/plain": [
       "Text(0,0.5,'Accuracy')"
      ]
     },
     "execution_count": 87,
     "metadata": {},
     "output_type": "execute_result"
    },
    {
     "data": {
      "image/png": "[encoded data removed]",
      "text/plain": [
       "<matplotlib.figure.Figure at 0x287125440b8>"
      ]
     },
     "metadata": {
      "needs_background": "light"
     },
     "output_type": "display_data"
    }
   ],
   "source": [
    "#Check how the NN is doing \n",
    "loss = [l[0] for l in history]\n",
    "accuracy = [l[1] for l in history]\n",
    "\n",
    "plt.plot(loss)\n",
    "plt.xlabel('Cycles')\n",
    "plt.ylabel('Mean squared error')\n",
    "#plt.savefig(\"error.png\")\n",
    "plt.show()\n",
    "plt.plot(accuracy)\n",
    "plt.xlabel('Cycles')\n",
    "plt.ylabel('Accuracy')\n",
    "#plt.savefig(\"accuracy.png\")"
   ]
  },
  {
   "cell_type": "code",
   "execution_count": 61,
   "metadata": {},
   "outputs": [],
   "source": [
    "pred= model.predict(d.input)"
   ]
  },
  {
   "cell_type": "code",
   "execution_count": 66,
   "metadata": {},
   "outputs": [
    {
     "name": "stdout",
     "output_type": "stream",
     "text": [
      "1263/1263 [==============================] - ETA: 11 - ETA: 4 - ETA:  - ETA:  - ETA:  - ETA:  - ETA:  - ETA:  - ETA:  - ETA:  - ETA:  - ETA:  - ETA:  - ETA:  - ETA:  - ETA:  - ETA:  - ETA:  - ETA:  - ETA:  - 2s 1ms/step\n",
      "[166.55706841475606, 0.19635787806809185]\n"
     ]
    }
   ],
   "source": [
    "score= model.evaluate(d.input,d.output)\n",
    "print(score)"
   ]
  },
  {
   "cell_type": "code",
   "execution_count": 63,
   "metadata": {},
   "outputs": [
    {
     "name": "stdout",
     "output_type": "stream",
     "text": [
      "1263/1263 [==============================] - ETA:  - ETA:  - ETA:  - ETA:  - ETA:  - ETA:  - ETA:  - ETA:  - ETA:  - ETA:  - ETA:  - ETA:  - ETA:  - ETA:  - ETA:  - ETA:  - ETA:  - ETA:  - ETA:  - ETA:  - 1s 1ms/step\n",
      "[166.55706841475606, 0.19635787806809185]\n"
     ]
    }
   ],
   "source": []
  },
  {
   "cell_type": "code",
   "execution_count": 47,
   "metadata": {},
   "outputs": [],
   "source": [
    "import pyworld as pw\n"
   ]
  },
  {
   "cell_type": "code",
   "execution_count": null,
   "metadata": {},
   "outputs": [],
   "source": []
  },
  {
   "cell_type": "code",
   "execution_count": null,
   "metadata": {},
   "outputs": [],
   "source": []
  },
  {
   "cell_type": "code",
   "execution_count": 109,
   "metadata": {},
   "outputs": [
    {
     "name": "stdout",
     "output_type": "stream",
     "text": [
      "(1461, 513)\n",
      "(729, 24)\n",
      "131440\n"
     ]
    }
   ],
   "source": [
    "#sd.play(d.combined.sample)\n",
    "f0,sp,ap=pw.wav2world(d.combined.sample,18000)\n",
    "testthing=pw.synthesize(f0,sp,ap,18000)\n",
    "#sd.play(d.combined.sample)\n",
    "#sd.play(testthing)\n",
    "print(sp.shape)\n",
    "\n",
    "print(d.input.shape)\n",
    "\n",
    "print(len(d.combined.sample))"
   ]
  },
  {
   "cell_type": "code",
   "execution_count": 102,
   "metadata": {},
   "outputs": [
    {
     "data": {
      "image/png": "[encoded data removed]",
      "text/plain": [
       "<matplotlib.figure.Figure at 0x1b361645240>"
      ]
     },
     "metadata": {
      "needs_background": "light"
     },
     "output_type": "display_data"
    }
   ],
   "source": [
    "from matplotlib import cm\n",
    "fig,ax=plt.subplots()\n",
    "mfcc_data=np.swapaxes(sp,0,1)\n",
    "\n",
    "cax=ax.imshow(mfcc_data,interpolation='nearest',cmap=cm.coolwarm,origin='lower',aspect='auto')\n",
    "ax.set_title('MFCC')\n",
    "plt.show()"
   ]
  },
  {
   "cell_type": "code",
   "execution_count": null,
   "metadata": {},
   "outputs": [],
   "source": []
  }
 ],
 "metadata": {
  "kernelspec": {
   "display_name": "Python 3",
   "language": "python",
   "name": "python3"
  },
  "language_info": {
   "codemirror_mode": {
    "name": "ipython",
    "version": 3
   },
   "file_extension": ".py",
   "mimetype": "text/x-python",
   "name": "python",
   "nbconvert_exporter": "python",
   "pygments_lexer": "ipython3",
   "version": "3.6.1"
  }
 },
 "nbformat": 4,
 "nbformat_minor": 2
}
